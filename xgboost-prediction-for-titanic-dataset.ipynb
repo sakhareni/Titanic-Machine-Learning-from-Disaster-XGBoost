{
 "cells": [
  {
   "cell_type": "code",
   "execution_count": 1,
   "id": "47c7030b",
   "metadata": {
    "ExecuteTime": {
     "end_time": "2024-04-06T15:08:36.743765Z",
     "start_time": "2024-04-06T15:08:36.740815Z"
    },
    "execution": {
     "iopub.execute_input": "2024-04-12T23:15:46.482655Z",
     "iopub.status.busy": "2024-04-12T23:15:46.482197Z",
     "iopub.status.idle": "2024-04-12T23:15:46.487405Z",
     "shell.execute_reply": "2024-04-12T23:15:46.486418Z"
    },
    "papermill": {
     "duration": 0.021861,
     "end_time": "2024-04-12T23:15:46.489568",
     "exception": false,
     "start_time": "2024-04-12T23:15:46.467707",
     "status": "completed"
    },
    "tags": []
   },
   "outputs": [],
   "source": [
    "# !pip install category-encoders"
   ]
  },
  {
   "cell_type": "code",
   "execution_count": 2,
   "id": "9a947cc4",
   "metadata": {
    "ExecuteTime": {
     "end_time": "2024-04-06T15:08:36.762773Z",
     "start_time": "2024-04-06T15:08:36.758773Z"
    },
    "collapsed": false,
    "execution": {
     "iopub.execute_input": "2024-04-12T23:15:46.516163Z",
     "iopub.status.busy": "2024-04-12T23:15:46.515413Z",
     "iopub.status.idle": "2024-04-12T23:15:49.977224Z",
     "shell.execute_reply": "2024-04-12T23:15:49.976021Z"
    },
    "jupyter": {
     "outputs_hidden": false
    },
    "papermill": {
     "duration": 3.479057,
     "end_time": "2024-04-12T23:15:49.980738",
     "exception": false,
     "start_time": "2024-04-12T23:15:46.501681",
     "status": "completed"
    },
    "tags": []
   },
   "outputs": [],
   "source": [
    "import re\n",
    "import numpy as np\n",
    "import pandas as pd\n",
    "import xgboost as xgb\n",
    "import category_encoders as ce\n",
    "import matplotlib.pyplot as plt\n",
    "from sklearn.ensemble import RandomForestClassifier\n",
    "from sklearn.model_selection import train_test_split, GridSearchCV\n",
    "from sklearn.metrics import confusion_matrix, ConfusionMatrixDisplay, accuracy_score"
   ]
  },
  {
   "cell_type": "markdown",
   "id": "05cc7546",
   "metadata": {
    "papermill": {
     "duration": 0.012387,
     "end_time": "2024-04-12T23:15:50.005219",
     "exception": false,
     "start_time": "2024-04-12T23:15:49.992832",
     "status": "completed"
    },
    "tags": []
   },
   "source": [
    "### Python Libraries and Modules for Machine Learning\n",
    "\n",
    "#### Basic Libraries\n",
    "- **`re`**: Provides regular expression matching operations similar to those found in Perl. Useful for string manipulation and text data processing.\n",
    "\n",
    "#### Data Handling and Computation\n",
    "- **`numpy`** (imported as `np`): A fundamental package for scientific computing with Python. It offers powerful N-dimensional array objects, and tools for integrating C/C++ and Fortran code.\n",
    "- **`pandas`** (imported as `pd`): Provides high-performance, easy-to-use data structures and data analysis tools. Ideal for handling structured data.\n",
    "\n",
    "#### Machine Learning Models and Tools\n",
    "- **`xgboost`** (imported as `xgb`): Implements gradient boosting framework. Used for building fast and high performance gradient boosting tree models.\n",
    "- **`category_encoders`** (imported as `ce`): A library featuring several encoders for converting categorical data into numerical format, suitable for machine learning models.\n",
    "- **`sklearn.ensemble.RandomForestClassifier`**: Part of scikit-learn, this is used for creating a Random Forest classifier that fits a number of decision tree classifiers on various sub-samples of the dataset and uses averaging to improve the predictive accuracy and control over-fitting.\n",
    "\n",
    "#### Model Evaluation and Selection\n",
    "- **`sklearn.model_selection.train_test_split`**: Splits arrays or matrices into random train and test subsets.\n",
    "- **`sklearn.model_selection.GridSearchCV`**: Exhaustive search over specified parameter values for an estimator, useful for cross-validating the best model parameters.\n",
    "\n",
    "#### Performance Metrics\n",
    "- **`sklearn.metrics.confusion_matrix`**: Computes the confusion matrix to evaluate the accuracy of a classification.\n",
    "- **`sklearn.metrics.ConfusionMatrixDisplay`**: Visualization for the confusion matrix.\n",
    "- **`sklearn.metrics.accuracy_score`**: Used to calculate the accuracy of either the fraction (default) or the count (normalize=False) of correct predictions.\n",
    "\n",
    "#### Visualization\n",
    "- **`matplotlib.pyplot`** (imported as `plt`): Provides a MATLAB-like plotting framework. Useful for making plots and graphs for data visualization.\n"
   ]
  },
  {
   "cell_type": "markdown",
   "id": "65e18d5a",
   "metadata": {
    "papermill": {
     "duration": 0.01265,
     "end_time": "2024-04-12T23:15:50.029843",
     "exception": false,
     "start_time": "2024-04-12T23:15:50.017193",
     "status": "completed"
    },
    "tags": []
   },
   "source": []
  },
  {
   "cell_type": "code",
   "execution_count": 3,
   "id": "9abfe720",
   "metadata": {
    "ExecuteTime": {
     "end_time": "2024-04-06T15:08:36.807197Z",
     "start_time": "2024-04-06T15:08:36.792963Z"
    },
    "collapsed": false,
    "execution": {
     "iopub.execute_input": "2024-04-12T23:15:50.055641Z",
     "iopub.status.busy": "2024-04-12T23:15:50.055101Z",
     "iopub.status.idle": "2024-04-12T23:15:50.116775Z",
     "shell.execute_reply": "2024-04-12T23:15:50.115509Z"
    },
    "jupyter": {
     "outputs_hidden": false
    },
    "papermill": {
     "duration": 0.077817,
     "end_time": "2024-04-12T23:15:50.119530",
     "exception": false,
     "start_time": "2024-04-12T23:15:50.041713",
     "status": "completed"
    },
    "tags": []
   },
   "outputs": [
    {
     "data": {
      "text/html": [
       "<div>\n",
       "<style scoped>\n",
       "    .dataframe tbody tr th:only-of-type {\n",
       "        vertical-align: middle;\n",
       "    }\n",
       "\n",
       "    .dataframe tbody tr th {\n",
       "        vertical-align: top;\n",
       "    }\n",
       "\n",
       "    .dataframe thead th {\n",
       "        text-align: right;\n",
       "    }\n",
       "</style>\n",
       "<table border=\"1\" class=\"dataframe\">\n",
       "  <thead>\n",
       "    <tr style=\"text-align: right;\">\n",
       "      <th></th>\n",
       "      <th>PassengerId</th>\n",
       "      <th>Survived</th>\n",
       "      <th>Pclass</th>\n",
       "      <th>Name</th>\n",
       "      <th>Sex</th>\n",
       "      <th>Age</th>\n",
       "      <th>SibSp</th>\n",
       "      <th>Parch</th>\n",
       "      <th>Ticket</th>\n",
       "      <th>Fare</th>\n",
       "      <th>Cabin</th>\n",
       "      <th>Embarked</th>\n",
       "    </tr>\n",
       "  </thead>\n",
       "  <tbody>\n",
       "    <tr>\n",
       "      <th>0</th>\n",
       "      <td>1</td>\n",
       "      <td>0</td>\n",
       "      <td>3</td>\n",
       "      <td>Braund, Mr. Owen Harris</td>\n",
       "      <td>male</td>\n",
       "      <td>22.0</td>\n",
       "      <td>1</td>\n",
       "      <td>0</td>\n",
       "      <td>A/5 21171</td>\n",
       "      <td>7.2500</td>\n",
       "      <td>NaN</td>\n",
       "      <td>S</td>\n",
       "    </tr>\n",
       "    <tr>\n",
       "      <th>1</th>\n",
       "      <td>2</td>\n",
       "      <td>1</td>\n",
       "      <td>1</td>\n",
       "      <td>Cumings, Mrs. John Bradley (Florence Briggs Th...</td>\n",
       "      <td>female</td>\n",
       "      <td>38.0</td>\n",
       "      <td>1</td>\n",
       "      <td>0</td>\n",
       "      <td>PC 17599</td>\n",
       "      <td>71.2833</td>\n",
       "      <td>C85</td>\n",
       "      <td>C</td>\n",
       "    </tr>\n",
       "    <tr>\n",
       "      <th>2</th>\n",
       "      <td>3</td>\n",
       "      <td>1</td>\n",
       "      <td>3</td>\n",
       "      <td>Heikkinen, Miss. Laina</td>\n",
       "      <td>female</td>\n",
       "      <td>26.0</td>\n",
       "      <td>0</td>\n",
       "      <td>0</td>\n",
       "      <td>STON/O2. 3101282</td>\n",
       "      <td>7.9250</td>\n",
       "      <td>NaN</td>\n",
       "      <td>S</td>\n",
       "    </tr>\n",
       "    <tr>\n",
       "      <th>3</th>\n",
       "      <td>4</td>\n",
       "      <td>1</td>\n",
       "      <td>1</td>\n",
       "      <td>Futrelle, Mrs. Jacques Heath (Lily May Peel)</td>\n",
       "      <td>female</td>\n",
       "      <td>35.0</td>\n",
       "      <td>1</td>\n",
       "      <td>0</td>\n",
       "      <td>113803</td>\n",
       "      <td>53.1000</td>\n",
       "      <td>C123</td>\n",
       "      <td>S</td>\n",
       "    </tr>\n",
       "    <tr>\n",
       "      <th>4</th>\n",
       "      <td>5</td>\n",
       "      <td>0</td>\n",
       "      <td>3</td>\n",
       "      <td>Allen, Mr. William Henry</td>\n",
       "      <td>male</td>\n",
       "      <td>35.0</td>\n",
       "      <td>0</td>\n",
       "      <td>0</td>\n",
       "      <td>373450</td>\n",
       "      <td>8.0500</td>\n",
       "      <td>NaN</td>\n",
       "      <td>S</td>\n",
       "    </tr>\n",
       "  </tbody>\n",
       "</table>\n",
       "</div>"
      ],
      "text/plain": [
       "   PassengerId  Survived  Pclass  \\\n",
       "0            1         0       3   \n",
       "1            2         1       1   \n",
       "2            3         1       3   \n",
       "3            4         1       1   \n",
       "4            5         0       3   \n",
       "\n",
       "                                                Name     Sex   Age  SibSp  \\\n",
       "0                            Braund, Mr. Owen Harris    male  22.0      1   \n",
       "1  Cumings, Mrs. John Bradley (Florence Briggs Th...  female  38.0      1   \n",
       "2                             Heikkinen, Miss. Laina  female  26.0      0   \n",
       "3       Futrelle, Mrs. Jacques Heath (Lily May Peel)  female  35.0      1   \n",
       "4                           Allen, Mr. William Henry    male  35.0      0   \n",
       "\n",
       "   Parch            Ticket     Fare Cabin Embarked  \n",
       "0      0         A/5 21171   7.2500   NaN        S  \n",
       "1      0          PC 17599  71.2833   C85        C  \n",
       "2      0  STON/O2. 3101282   7.9250   NaN        S  \n",
       "3      0            113803  53.1000  C123        S  \n",
       "4      0            373450   8.0500   NaN        S  "
      ]
     },
     "execution_count": 3,
     "metadata": {},
     "output_type": "execute_result"
    }
   ],
   "source": [
    "# train_data = pd.read_csv('train.csv')\n",
    "# test_data = pd.read_csv('test.csv')\n",
    "# sub_data = pd.read_csv('gender_submission.csv')\n",
    "train_data = pd.read_csv('/kaggle/input/titanic/train.csv')\n",
    "test_data = pd.read_csv('/kaggle/input/titanic/test.csv')\n",
    "sub_data = pd.read_csv('/kaggle/input/titanic/gender_submission.csv')\n",
    "train_data.head()"
   ]
  },
  {
   "cell_type": "markdown",
   "id": "9d7a93ea",
   "metadata": {
    "papermill": {
     "duration": 0.01252,
     "end_time": "2024-04-12T23:15:50.144515",
     "exception": false,
     "start_time": "2024-04-12T23:15:50.131995",
     "status": "completed"
    },
    "tags": []
   },
   "source": [
    "### Working with Titanic Dataset in Kaggle\n",
    "\n",
    "The code snippet below is used to load the Titanic dataset from Kaggle's file structure, which includes three CSV files: one for training, one for testing, and one for submission examples. This dataset is commonly used in introductory data science competitions to predict which passengers survived the Titanic shipwreck.\n",
    "\n",
    "#### Code Explanation\n",
    "- **Train Data**:\n",
    "  ```python\n",
    "  train_data = pd.read_csv('/kaggle/input/titanic/train.csv')\n"
   ]
  },
  {
   "cell_type": "markdown",
   "id": "151b4ea9",
   "metadata": {
    "papermill": {
     "duration": 0.012665,
     "end_time": "2024-04-12T23:15:50.169521",
     "exception": false,
     "start_time": "2024-04-12T23:15:50.156856",
     "status": "completed"
    },
    "tags": []
   },
   "source": []
  },
  {
   "cell_type": "code",
   "execution_count": 4,
   "id": "08616851",
   "metadata": {
    "ExecuteTime": {
     "end_time": "2024-04-06T15:08:36.815605Z",
     "start_time": "2024-04-06T15:08:36.808203Z"
    },
    "collapsed": false,
    "execution": {
     "iopub.execute_input": "2024-04-12T23:15:50.197230Z",
     "iopub.status.busy": "2024-04-12T23:15:50.196566Z",
     "iopub.status.idle": "2024-04-12T23:15:50.218708Z",
     "shell.execute_reply": "2024-04-12T23:15:50.217772Z"
    },
    "jupyter": {
     "outputs_hidden": false
    },
    "papermill": {
     "duration": 0.039246,
     "end_time": "2024-04-12T23:15:50.221338",
     "exception": false,
     "start_time": "2024-04-12T23:15:50.182092",
     "status": "completed"
    },
    "tags": []
   },
   "outputs": [],
   "source": [
    "all_data = [train_data, test_data]\n",
    "for dataset in all_data:\n",
    "    dataset['Age'] = dataset['Age'].fillna(dataset['Age'].mean())\n",
    "    dataset['Embarked'] = dataset['Embarked'].fillna('S')\n",
    "    dataset['Fare'] = dataset['Fare'].fillna(dataset['Fare'].mean())\n",
    "    dataset['Has_Cabin'] = dataset['Cabin'].apply(lambda x: 0 if type(x) == float else 1)\n",
    "    dataset.drop(['Cabin'], axis=1, inplace=True)"
   ]
  },
  {
   "cell_type": "markdown",
   "id": "20015b9a",
   "metadata": {
    "papermill": {
     "duration": 0.012604,
     "end_time": "2024-04-12T23:15:50.246270",
     "exception": false,
     "start_time": "2024-04-12T23:15:50.233666",
     "status": "completed"
    },
    "tags": []
   },
   "source": [
    "### Data Preprocessing for Titanic Dataset\n",
    "\n",
    "The following code snippet demonstrates the preprocessing steps applied to both the training and testing datasets from the Titanic dataset. These steps are crucial for preparing the data for a machine learning model.\n",
    "\n",
    "#### Overview\n",
    "We combine the training and testing datasets into a list to apply the same transformations across both datasets efficiently.\n",
    "\n",
    "#### Code Explanation\n",
    "- **Combining Data**:\n",
    "  ```python\n",
    "  all_data = [train_data, test_data]\n"
   ]
  },
  {
   "cell_type": "markdown",
   "id": "11d48eea",
   "metadata": {
    "papermill": {
     "duration": 0.012101,
     "end_time": "2024-04-12T23:15:50.270607",
     "exception": false,
     "start_time": "2024-04-12T23:15:50.258506",
     "status": "completed"
    },
    "tags": []
   },
   "source": []
  },
  {
   "cell_type": "code",
   "execution_count": 5,
   "id": "5513abfb",
   "metadata": {
    "ExecuteTime": {
     "end_time": "2024-04-06T15:08:36.82637Z",
     "start_time": "2024-04-06T15:08:36.816612Z"
    },
    "collapsed": false,
    "execution": {
     "iopub.execute_input": "2024-04-12T23:15:50.298145Z",
     "iopub.status.busy": "2024-04-12T23:15:50.297462Z",
     "iopub.status.idle": "2024-04-12T23:15:50.302752Z",
     "shell.execute_reply": "2024-04-12T23:15:50.301497Z"
    },
    "jupyter": {
     "outputs_hidden": false
    },
    "papermill": {
     "duration": 0.022141,
     "end_time": "2024-04-12T23:15:50.305486",
     "exception": false,
     "start_time": "2024-04-12T23:15:50.283345",
     "status": "completed"
    },
    "tags": []
   },
   "outputs": [],
   "source": [
    "def get_title(name):\n",
    "    title_search = re.search(' ([A-Za-z]+)\\.', name)\n",
    "    if title_search:\n",
    "        return title_search.group(1)\n",
    "    return \"\""
   ]
  },
  {
   "cell_type": "markdown",
   "id": "49aab64d",
   "metadata": {
    "papermill": {
     "duration": 0.011969,
     "end_time": "2024-04-12T23:15:50.329828",
     "exception": false,
     "start_time": "2024-04-12T23:15:50.317859",
     "status": "completed"
    },
    "tags": []
   },
   "source": [
    "### Extracting Titles from Names\n",
    "\n",
    "#### Function: `get_title`\n",
    "\n",
    "The `get_title` function is designed to extract the title (such as Mr, Mrs, Miss, etc.) from a person's full name. This is particularly useful in datasets where names include titles that may indicate social status, gender, or marital status, which can be relevant features for analysis or machine learning models.\n",
    "\n",
    "#### Code Explanation\n",
    "```python\n",
    "def get_title(name):\n",
    "    title_search = re.search(' ([A-Za-z]+)\\.', name)\n",
    "    if title_search:\n",
    "        return title_search.group(1)\n",
    "    return \"\"\n"
   ]
  },
  {
   "cell_type": "code",
   "execution_count": 6,
   "id": "172fcfed",
   "metadata": {
    "execution": {
     "iopub.execute_input": "2024-04-12T23:15:50.356350Z",
     "iopub.status.busy": "2024-04-12T23:15:50.355928Z",
     "iopub.status.idle": "2024-04-12T23:15:50.377405Z",
     "shell.execute_reply": "2024-04-12T23:15:50.376234Z"
    },
    "papermill": {
     "duration": 0.038082,
     "end_time": "2024-04-12T23:15:50.380235",
     "exception": false,
     "start_time": "2024-04-12T23:15:50.342153",
     "status": "completed"
    },
    "tags": []
   },
   "outputs": [],
   "source": [
    "for dataset in all_data:\n",
    "    dataset['Title'] = dataset['Name'].apply(get_title)\n",
    "    dataset['FamilySize'] = dataset['SibSp'] + dataset['Parch'] + 1\n",
    "\n",
    "for dataset in all_data:\n",
    "    dataset['Title'] = dataset['Title'].replace(\n",
    "        ['Countess', 'Lady', 'Sir', 'Capt', 'Col', 'Don', 'Dr', 'Major', 'Rev', 'Jonkheer', 'Dona'], 'Rare')\n",
    "    dataset['Title'] = dataset['Title'].replace('Mlle', 'Miss')\n",
    "    dataset['Title'] = dataset['Title'].replace('Ms', 'Miss')\n",
    "    dataset['Title'] = dataset['Title'].replace('Mme', 'Mrs')"
   ]
  },
  {
   "cell_type": "markdown",
   "id": "1a5a6b04",
   "metadata": {
    "papermill": {
     "duration": 0.012046,
     "end_time": "2024-04-12T23:15:50.404594",
     "exception": false,
     "start_time": "2024-04-12T23:15:50.392548",
     "status": "completed"
    },
    "tags": []
   },
   "source": [
    "### Feature Engineering on Titanic Dataset\n",
    "\n",
    "The following code segments are used to create and manipulate new features in both the training and testing datasets from the Titanic dataset. These transformations help to enrich the data with new insights that might improve the performance of a machine learning model.\n",
    "\n",
    "#### Creating New Features\n",
    "\n",
    "1. **Extract Titles from Names**:\n",
    "   ```python\n",
    "   for dataset in all_data:\n",
    "       dataset['Title'] = dataset['Name'].apply(get_title)\n"
   ]
  },
  {
   "cell_type": "code",
   "execution_count": 7,
   "id": "add0ca80",
   "metadata": {
    "ExecuteTime": {
     "end_time": "2024-04-06T15:08:36.834765Z",
     "start_time": "2024-04-06T15:08:36.827378Z"
    },
    "collapsed": false,
    "execution": {
     "iopub.execute_input": "2024-04-12T23:15:50.432144Z",
     "iopub.status.busy": "2024-04-12T23:15:50.431720Z",
     "iopub.status.idle": "2024-04-12T23:15:50.449483Z",
     "shell.execute_reply": "2024-04-12T23:15:50.448308Z"
    },
    "jupyter": {
     "outputs_hidden": false
    },
    "papermill": {
     "duration": 0.034499,
     "end_time": "2024-04-12T23:15:50.452257",
     "exception": false,
     "start_time": "2024-04-12T23:15:50.417758",
     "status": "completed"
    },
    "tags": []
   },
   "outputs": [],
   "source": [
    "for dataset in all_data:\n",
    "    dataset['Age_bin'] = pd.cut(dataset['Age'], bins=[0, 12, 18, 24, 35, 60, 120],\n",
    "                                labels=['Children', 'Teenager', 'Student', 'Young Adult', 'Adult', 'Elder'])\n",
    "    \n",
    "    dataset['Fare_bin'] = pd.cut(dataset['Fare'], bins=[0, 7.91, 14.45, 31, 120],\n",
    "                                 labels=['low_fare', 'median_fare', 'average_fare', 'high_fare'])"
   ]
  },
  {
   "cell_type": "markdown",
   "id": "a0c994ba",
   "metadata": {
    "papermill": {
     "duration": 0.012181,
     "end_time": "2024-04-12T23:15:50.476741",
     "exception": false,
     "start_time": "2024-04-12T23:15:50.464560",
     "status": "completed"
    },
    "tags": []
   },
   "source": [
    "### Further Feature Engineering on Titanic Dataset\n",
    "\n",
    "#### Categorizing Age and Fare\n",
    "\n",
    "The code snippet below categorizes two continuous features, `Age` and `Fare`, into predefined bins. This transformation can help in identifying patterns that are more evident in categorical data and might improve the predictive accuracy of machine learning models.\n",
    "\n",
    "1. **Categorizing Age**:\n",
    "   ```python\n",
    "   for dataset in all_data:\n",
    "       dataset['Age_bin'] = pd.cut(dataset['Age'], bins=[0, 12, 18, 24, 35, 60, 120],\n",
    "                                   labels=['Children', 'Teenager', 'Student', 'Young Adult', 'Adult', 'Elder'])\n"
   ]
  },
  {
   "cell_type": "code",
   "execution_count": 8,
   "id": "e3a4e65a",
   "metadata": {
    "ExecuteTime": {
     "end_time": "2024-04-06T15:08:36.843127Z",
     "start_time": "2024-04-06T15:08:36.834765Z"
    },
    "_kg_hide-output": true,
    "collapsed": false,
    "execution": {
     "iopub.execute_input": "2024-04-12T23:15:50.506120Z",
     "iopub.status.busy": "2024-04-12T23:15:50.505046Z",
     "iopub.status.idle": "2024-04-12T23:15:50.527002Z",
     "shell.execute_reply": "2024-04-12T23:15:50.525592Z"
    },
    "jupyter": {
     "outputs_hidden": false
    },
    "papermill": {
     "duration": 0.038962,
     "end_time": "2024-04-12T23:15:50.529461",
     "exception": false,
     "start_time": "2024-04-12T23:15:50.490499",
     "status": "completed"
    },
    "tags": []
   },
   "outputs": [
    {
     "name": "stdout",
     "output_type": "stream",
     "text": [
      "Pclass\n",
      "3    491\n",
      "1    216\n",
      "2    184\n",
      "Name: count, dtype: int64\n",
      "Title\n",
      "Mr        517\n",
      "Miss      185\n",
      "Mrs       126\n",
      "Master     40\n",
      "Rare       23\n",
      "Name: count, dtype: int64\n",
      "Sex\n",
      "male      577\n",
      "female    314\n",
      "Name: count, dtype: int64\n",
      "Age\n",
      "29.699118    177\n",
      "24.000000     30\n",
      "22.000000     27\n",
      "18.000000     26\n",
      "28.000000     25\n",
      "            ... \n",
      "36.500000      1\n",
      "55.500000      1\n",
      "0.920000       1\n",
      "23.500000      1\n",
      "74.000000      1\n",
      "Name: count, Length: 89, dtype: int64\n",
      "SibSp\n",
      "0    608\n",
      "1    209\n",
      "2     28\n",
      "4     18\n",
      "3     16\n",
      "8      7\n",
      "5      5\n",
      "Name: count, dtype: int64\n",
      "Parch\n",
      "0    678\n",
      "1    118\n",
      "2     80\n",
      "5      5\n",
      "3      5\n",
      "4      4\n",
      "6      1\n",
      "Name: count, dtype: int64\n",
      "FamilySize\n",
      "1     537\n",
      "2     161\n",
      "3     102\n",
      "4      29\n",
      "6      22\n",
      "5      15\n",
      "7      12\n",
      "11      7\n",
      "8       6\n",
      "Name: count, dtype: int64\n",
      "Fare\n",
      "8.0500     43\n",
      "13.0000    42\n",
      "7.8958     38\n",
      "7.7500     34\n",
      "26.0000    31\n",
      "           ..\n",
      "35.0000     1\n",
      "28.5000     1\n",
      "6.2375      1\n",
      "14.0000     1\n",
      "10.5167     1\n",
      "Name: count, Length: 248, dtype: int64\n",
      "Embarked\n",
      "S    646\n",
      "C    168\n",
      "Q     77\n",
      "Name: count, dtype: int64\n",
      "Has_Cabin\n",
      "0    687\n",
      "1    204\n",
      "Name: count, dtype: int64\n"
     ]
    }
   ],
   "source": [
    "for col in ['Pclass', 'Title', 'Sex', 'Age', 'SibSp', 'Parch', 'FamilySize', 'Fare', 'Embarked', 'Has_Cabin']:\n",
    "    print(train_data[col].value_counts())"
   ]
  },
  {
   "cell_type": "code",
   "execution_count": 9,
   "id": "e648fa46",
   "metadata": {
    "ExecuteTime": {
     "end_time": "2024-04-06T15:08:36.846848Z",
     "start_time": "2024-04-06T15:08:36.844136Z"
    },
    "collapsed": false,
    "execution": {
     "iopub.execute_input": "2024-04-12T23:15:50.556353Z",
     "iopub.status.busy": "2024-04-12T23:15:50.555874Z",
     "iopub.status.idle": "2024-04-12T23:15:50.561499Z",
     "shell.execute_reply": "2024-04-12T23:15:50.560330Z"
    },
    "jupyter": {
     "outputs_hidden": false
    },
    "papermill": {
     "duration": 0.022162,
     "end_time": "2024-04-12T23:15:50.564065",
     "exception": false,
     "start_time": "2024-04-12T23:15:50.541903",
     "status": "completed"
    },
    "tags": []
   },
   "outputs": [],
   "source": [
    "train_df = train_data\n",
    "test_df = test_data\n",
    "all_df = [train_df, test_df]"
   ]
  },
  {
   "cell_type": "code",
   "execution_count": 10,
   "id": "1c972bbd",
   "metadata": {
    "ExecuteTime": {
     "end_time": "2024-04-06T15:08:36.852332Z",
     "start_time": "2024-04-06T15:08:36.847855Z"
    },
    "collapsed": false,
    "execution": {
     "iopub.execute_input": "2024-04-12T23:15:50.590874Z",
     "iopub.status.busy": "2024-04-12T23:15:50.590430Z",
     "iopub.status.idle": "2024-04-12T23:15:50.600289Z",
     "shell.execute_reply": "2024-04-12T23:15:50.599073Z"
    },
    "jupyter": {
     "outputs_hidden": false
    },
    "papermill": {
     "duration": 0.026309,
     "end_time": "2024-04-12T23:15:50.602910",
     "exception": false,
     "start_time": "2024-04-12T23:15:50.576601",
     "status": "completed"
    },
    "tags": []
   },
   "outputs": [],
   "source": [
    "for dataset in all_df:\n",
    "    drop_column = ['Age', 'Name', 'Ticket', 'SibSp', 'Fare']\n",
    "    dataset.drop(drop_column, axis=1, inplace=True)\n",
    "\n",
    "train_df.drop('PassengerId', axis=1, inplace=True)"
   ]
  },
  {
   "cell_type": "code",
   "execution_count": 11,
   "id": "5c3e2d4b",
   "metadata": {
    "ExecuteTime": {
     "end_time": "2024-04-06T15:08:36.863618Z",
     "start_time": "2024-04-06T15:08:36.853338Z"
    },
    "collapsed": false,
    "execution": {
     "iopub.execute_input": "2024-04-12T23:15:50.629738Z",
     "iopub.status.busy": "2024-04-12T23:15:50.629293Z",
     "iopub.status.idle": "2024-04-12T23:15:50.655858Z",
     "shell.execute_reply": "2024-04-12T23:15:50.654596Z"
    },
    "jupyter": {
     "outputs_hidden": false
    },
    "papermill": {
     "duration": 0.043199,
     "end_time": "2024-04-12T23:15:50.658622",
     "exception": false,
     "start_time": "2024-04-12T23:15:50.615423",
     "status": "completed"
    },
    "tags": []
   },
   "outputs": [
    {
     "data": {
      "text/html": [
       "<div>\n",
       "<style scoped>\n",
       "    .dataframe tbody tr th:only-of-type {\n",
       "        vertical-align: middle;\n",
       "    }\n",
       "\n",
       "    .dataframe tbody tr th {\n",
       "        vertical-align: top;\n",
       "    }\n",
       "\n",
       "    .dataframe thead th {\n",
       "        text-align: right;\n",
       "    }\n",
       "</style>\n",
       "<table border=\"1\" class=\"dataframe\">\n",
       "  <thead>\n",
       "    <tr style=\"text-align: right;\">\n",
       "      <th></th>\n",
       "      <th>Pclass</th>\n",
       "      <th>Sex</th>\n",
       "      <th>Parch</th>\n",
       "      <th>Embarked</th>\n",
       "      <th>Has_Cabin</th>\n",
       "      <th>Title</th>\n",
       "      <th>FamilySize</th>\n",
       "      <th>Age_bin</th>\n",
       "      <th>Fare_bin</th>\n",
       "    </tr>\n",
       "  </thead>\n",
       "  <tbody>\n",
       "    <tr>\n",
       "      <th>570</th>\n",
       "      <td>2</td>\n",
       "      <td>male</td>\n",
       "      <td>0</td>\n",
       "      <td>S</td>\n",
       "      <td>0</td>\n",
       "      <td>Mr</td>\n",
       "      <td>1</td>\n",
       "      <td>Elder</td>\n",
       "      <td>median_fare</td>\n",
       "    </tr>\n",
       "    <tr>\n",
       "      <th>787</th>\n",
       "      <td>3</td>\n",
       "      <td>male</td>\n",
       "      <td>1</td>\n",
       "      <td>Q</td>\n",
       "      <td>0</td>\n",
       "      <td>Master</td>\n",
       "      <td>6</td>\n",
       "      <td>Children</td>\n",
       "      <td>average_fare</td>\n",
       "    </tr>\n",
       "    <tr>\n",
       "      <th>74</th>\n",
       "      <td>3</td>\n",
       "      <td>male</td>\n",
       "      <td>0</td>\n",
       "      <td>S</td>\n",
       "      <td>0</td>\n",
       "      <td>Mr</td>\n",
       "      <td>1</td>\n",
       "      <td>Young Adult</td>\n",
       "      <td>high_fare</td>\n",
       "    </tr>\n",
       "    <tr>\n",
       "      <th>113</th>\n",
       "      <td>3</td>\n",
       "      <td>female</td>\n",
       "      <td>0</td>\n",
       "      <td>S</td>\n",
       "      <td>0</td>\n",
       "      <td>Miss</td>\n",
       "      <td>2</td>\n",
       "      <td>Student</td>\n",
       "      <td>median_fare</td>\n",
       "    </tr>\n",
       "    <tr>\n",
       "      <th>635</th>\n",
       "      <td>2</td>\n",
       "      <td>female</td>\n",
       "      <td>0</td>\n",
       "      <td>S</td>\n",
       "      <td>0</td>\n",
       "      <td>Miss</td>\n",
       "      <td>1</td>\n",
       "      <td>Young Adult</td>\n",
       "      <td>median_fare</td>\n",
       "    </tr>\n",
       "    <tr>\n",
       "      <th>...</th>\n",
       "      <td>...</td>\n",
       "      <td>...</td>\n",
       "      <td>...</td>\n",
       "      <td>...</td>\n",
       "      <td>...</td>\n",
       "      <td>...</td>\n",
       "      <td>...</td>\n",
       "      <td>...</td>\n",
       "      <td>...</td>\n",
       "    </tr>\n",
       "    <tr>\n",
       "      <th>106</th>\n",
       "      <td>3</td>\n",
       "      <td>female</td>\n",
       "      <td>0</td>\n",
       "      <td>S</td>\n",
       "      <td>0</td>\n",
       "      <td>Miss</td>\n",
       "      <td>1</td>\n",
       "      <td>Student</td>\n",
       "      <td>low_fare</td>\n",
       "    </tr>\n",
       "    <tr>\n",
       "      <th>270</th>\n",
       "      <td>1</td>\n",
       "      <td>male</td>\n",
       "      <td>0</td>\n",
       "      <td>S</td>\n",
       "      <td>0</td>\n",
       "      <td>Mr</td>\n",
       "      <td>1</td>\n",
       "      <td>Young Adult</td>\n",
       "      <td>average_fare</td>\n",
       "    </tr>\n",
       "    <tr>\n",
       "      <th>860</th>\n",
       "      <td>3</td>\n",
       "      <td>male</td>\n",
       "      <td>0</td>\n",
       "      <td>S</td>\n",
       "      <td>0</td>\n",
       "      <td>Mr</td>\n",
       "      <td>3</td>\n",
       "      <td>Adult</td>\n",
       "      <td>median_fare</td>\n",
       "    </tr>\n",
       "    <tr>\n",
       "      <th>435</th>\n",
       "      <td>1</td>\n",
       "      <td>female</td>\n",
       "      <td>2</td>\n",
       "      <td>S</td>\n",
       "      <td>1</td>\n",
       "      <td>Miss</td>\n",
       "      <td>4</td>\n",
       "      <td>Teenager</td>\n",
       "      <td>high_fare</td>\n",
       "    </tr>\n",
       "    <tr>\n",
       "      <th>102</th>\n",
       "      <td>1</td>\n",
       "      <td>male</td>\n",
       "      <td>1</td>\n",
       "      <td>S</td>\n",
       "      <td>1</td>\n",
       "      <td>Mr</td>\n",
       "      <td>2</td>\n",
       "      <td>Student</td>\n",
       "      <td>high_fare</td>\n",
       "    </tr>\n",
       "  </tbody>\n",
       "</table>\n",
       "<p>534 rows × 9 columns</p>\n",
       "</div>"
      ],
      "text/plain": [
       "     Pclass     Sex  Parch Embarked  Has_Cabin   Title  FamilySize  \\\n",
       "570       2    male      0        S          0      Mr           1   \n",
       "787       3    male      1        Q          0  Master           6   \n",
       "74        3    male      0        S          0      Mr           1   \n",
       "113       3  female      0        S          0    Miss           2   \n",
       "635       2  female      0        S          0    Miss           1   \n",
       "..      ...     ...    ...      ...        ...     ...         ...   \n",
       "106       3  female      0        S          0    Miss           1   \n",
       "270       1    male      0        S          0      Mr           1   \n",
       "860       3    male      0        S          0      Mr           3   \n",
       "435       1  female      2        S          1    Miss           4   \n",
       "102       1    male      1        S          1      Mr           2   \n",
       "\n",
       "         Age_bin      Fare_bin  \n",
       "570        Elder   median_fare  \n",
       "787     Children  average_fare  \n",
       "74   Young Adult     high_fare  \n",
       "113      Student   median_fare  \n",
       "635  Young Adult   median_fare  \n",
       "..           ...           ...  \n",
       "106      Student      low_fare  \n",
       "270  Young Adult  average_fare  \n",
       "860        Adult   median_fare  \n",
       "435     Teenager     high_fare  \n",
       "102      Student     high_fare  \n",
       "\n",
       "[534 rows x 9 columns]"
      ]
     },
     "execution_count": 11,
     "metadata": {},
     "output_type": "execute_result"
    }
   ],
   "source": [
    "x = train_df.drop('Survived', axis=1)\n",
    "y = train_df['Survived']\n",
    "x_train, x_test, y_train, y_test = train_test_split(x, y, test_size=0.4, random_state=42)\n",
    "x_train"
   ]
  },
  {
   "cell_type": "markdown",
   "id": "b50a05c0",
   "metadata": {
    "papermill": {
     "duration": 0.01499,
     "end_time": "2024-04-12T23:15:50.689289",
     "exception": false,
     "start_time": "2024-04-12T23:15:50.674299",
     "status": "completed"
    },
    "tags": []
   },
   "source": [
    "### Splitting the Titanic Dataset into Train and Test Sets\n",
    "\n",
    "#### Purpose\n",
    "Splitting the data into training and test sets is a fundamental step in preparing data for building and validating machine learning models. This approach helps in evaluating the performance of a model on unseen data, ensuring that the model generalizes well beyond the data on which it was trained.\n",
    "\n",
    "#### Code Explanation\n",
    "\n",
    "1. **Preparing the Features and Target**:\n",
    "   ```python\n",
    "   x = train_df.drop('Survived', axis=1)\n",
    "   y = train_df['Survived']\n"
   ]
  },
  {
   "cell_type": "code",
   "execution_count": 12,
   "id": "d12b21d0",
   "metadata": {
    "execution": {
     "iopub.execute_input": "2024-04-12T23:15:50.724570Z",
     "iopub.status.busy": "2024-04-12T23:15:50.723984Z",
     "iopub.status.idle": "2024-04-12T23:15:50.732943Z",
     "shell.execute_reply": "2024-04-12T23:15:50.731564Z"
    },
    "papermill": {
     "duration": 0.031692,
     "end_time": "2024-04-12T23:15:50.735464",
     "exception": false,
     "start_time": "2024-04-12T23:15:50.703772",
     "status": "completed"
    },
    "tags": []
   },
   "outputs": [
    {
     "data": {
      "text/plain": [
       "((534, 9), (357, 9), (534,), (357,))"
      ]
     },
     "execution_count": 12,
     "metadata": {},
     "output_type": "execute_result"
    }
   ],
   "source": [
    "x_train.shape, x_test.shape, y_train.shape, y_test.shape"
   ]
  },
  {
   "cell_type": "code",
   "execution_count": 13,
   "id": "b5721e81",
   "metadata": {
    "ExecuteTime": {
     "end_time": "2024-04-06T15:08:36.970469Z",
     "start_time": "2024-04-06T15:08:36.864627Z"
    },
    "collapsed": false,
    "execution": {
     "iopub.execute_input": "2024-04-12T23:15:50.763919Z",
     "iopub.status.busy": "2024-04-12T23:15:50.763495Z",
     "iopub.status.idle": "2024-04-12T23:15:50.863805Z",
     "shell.execute_reply": "2024-04-12T23:15:50.862585Z"
    },
    "jupyter": {
     "outputs_hidden": false
    },
    "papermill": {
     "duration": 0.117258,
     "end_time": "2024-04-12T23:15:50.866185",
     "exception": false,
     "start_time": "2024-04-12T23:15:50.748927",
     "status": "completed"
    },
    "tags": []
   },
   "outputs": [
    {
     "data": {
      "text/html": [
       "<div>\n",
       "<style scoped>\n",
       "    .dataframe tbody tr th:only-of-type {\n",
       "        vertical-align: middle;\n",
       "    }\n",
       "\n",
       "    .dataframe tbody tr th {\n",
       "        vertical-align: top;\n",
       "    }\n",
       "\n",
       "    .dataframe thead th {\n",
       "        text-align: right;\n",
       "    }\n",
       "</style>\n",
       "<table border=\"1\" class=\"dataframe\">\n",
       "  <thead>\n",
       "    <tr style=\"text-align: right;\">\n",
       "      <th></th>\n",
       "      <th>Pclass</th>\n",
       "      <th>Sex</th>\n",
       "      <th>Parch</th>\n",
       "      <th>Embarked</th>\n",
       "      <th>Has_Cabin</th>\n",
       "      <th>Title</th>\n",
       "      <th>FamilySize</th>\n",
       "      <th>Age_bin</th>\n",
       "      <th>Fare_bin</th>\n",
       "    </tr>\n",
       "  </thead>\n",
       "  <tbody>\n",
       "    <tr>\n",
       "      <th>570</th>\n",
       "      <td>2</td>\n",
       "      <td>1</td>\n",
       "      <td>0</td>\n",
       "      <td>1</td>\n",
       "      <td>0</td>\n",
       "      <td>1</td>\n",
       "      <td>1</td>\n",
       "      <td>6</td>\n",
       "      <td>2</td>\n",
       "    </tr>\n",
       "    <tr>\n",
       "      <th>787</th>\n",
       "      <td>3</td>\n",
       "      <td>1</td>\n",
       "      <td>1</td>\n",
       "      <td>2</td>\n",
       "      <td>0</td>\n",
       "      <td>2</td>\n",
       "      <td>6</td>\n",
       "      <td>1</td>\n",
       "      <td>3</td>\n",
       "    </tr>\n",
       "    <tr>\n",
       "      <th>74</th>\n",
       "      <td>3</td>\n",
       "      <td>1</td>\n",
       "      <td>0</td>\n",
       "      <td>1</td>\n",
       "      <td>0</td>\n",
       "      <td>1</td>\n",
       "      <td>1</td>\n",
       "      <td>4</td>\n",
       "      <td>4</td>\n",
       "    </tr>\n",
       "    <tr>\n",
       "      <th>113</th>\n",
       "      <td>3</td>\n",
       "      <td>2</td>\n",
       "      <td>0</td>\n",
       "      <td>1</td>\n",
       "      <td>0</td>\n",
       "      <td>3</td>\n",
       "      <td>2</td>\n",
       "      <td>3</td>\n",
       "      <td>2</td>\n",
       "    </tr>\n",
       "    <tr>\n",
       "      <th>635</th>\n",
       "      <td>2</td>\n",
       "      <td>2</td>\n",
       "      <td>0</td>\n",
       "      <td>1</td>\n",
       "      <td>0</td>\n",
       "      <td>3</td>\n",
       "      <td>1</td>\n",
       "      <td>4</td>\n",
       "      <td>2</td>\n",
       "    </tr>\n",
       "    <tr>\n",
       "      <th>...</th>\n",
       "      <td>...</td>\n",
       "      <td>...</td>\n",
       "      <td>...</td>\n",
       "      <td>...</td>\n",
       "      <td>...</td>\n",
       "      <td>...</td>\n",
       "      <td>...</td>\n",
       "      <td>...</td>\n",
       "      <td>...</td>\n",
       "    </tr>\n",
       "    <tr>\n",
       "      <th>106</th>\n",
       "      <td>3</td>\n",
       "      <td>2</td>\n",
       "      <td>0</td>\n",
       "      <td>1</td>\n",
       "      <td>0</td>\n",
       "      <td>3</td>\n",
       "      <td>1</td>\n",
       "      <td>3</td>\n",
       "      <td>1</td>\n",
       "    </tr>\n",
       "    <tr>\n",
       "      <th>270</th>\n",
       "      <td>1</td>\n",
       "      <td>1</td>\n",
       "      <td>0</td>\n",
       "      <td>1</td>\n",
       "      <td>0</td>\n",
       "      <td>1</td>\n",
       "      <td>1</td>\n",
       "      <td>4</td>\n",
       "      <td>3</td>\n",
       "    </tr>\n",
       "    <tr>\n",
       "      <th>860</th>\n",
       "      <td>3</td>\n",
       "      <td>1</td>\n",
       "      <td>0</td>\n",
       "      <td>1</td>\n",
       "      <td>0</td>\n",
       "      <td>1</td>\n",
       "      <td>3</td>\n",
       "      <td>5</td>\n",
       "      <td>2</td>\n",
       "    </tr>\n",
       "    <tr>\n",
       "      <th>435</th>\n",
       "      <td>1</td>\n",
       "      <td>2</td>\n",
       "      <td>2</td>\n",
       "      <td>1</td>\n",
       "      <td>1</td>\n",
       "      <td>3</td>\n",
       "      <td>4</td>\n",
       "      <td>2</td>\n",
       "      <td>4</td>\n",
       "    </tr>\n",
       "    <tr>\n",
       "      <th>102</th>\n",
       "      <td>1</td>\n",
       "      <td>1</td>\n",
       "      <td>1</td>\n",
       "      <td>1</td>\n",
       "      <td>1</td>\n",
       "      <td>1</td>\n",
       "      <td>2</td>\n",
       "      <td>3</td>\n",
       "      <td>4</td>\n",
       "    </tr>\n",
       "  </tbody>\n",
       "</table>\n",
       "<p>534 rows × 9 columns</p>\n",
       "</div>"
      ],
      "text/plain": [
       "     Pclass  Sex  Parch  Embarked  Has_Cabin  Title  FamilySize  Age_bin  \\\n",
       "570       2    1      0         1          0      1           1        6   \n",
       "787       3    1      1         2          0      2           6        1   \n",
       "74        3    1      0         1          0      1           1        4   \n",
       "113       3    2      0         1          0      3           2        3   \n",
       "635       2    2      0         1          0      3           1        4   \n",
       "..      ...  ...    ...       ...        ...    ...         ...      ...   \n",
       "106       3    2      0         1          0      3           1        3   \n",
       "270       1    1      0         1          0      1           1        4   \n",
       "860       3    1      0         1          0      1           3        5   \n",
       "435       1    2      2         1          1      3           4        2   \n",
       "102       1    1      1         1          1      1           2        3   \n",
       "\n",
       "     Fare_bin  \n",
       "570         2  \n",
       "787         3  \n",
       "74          4  \n",
       "113         2  \n",
       "635         2  \n",
       "..        ...  \n",
       "106         1  \n",
       "270         3  \n",
       "860         2  \n",
       "435         4  \n",
       "102         4  \n",
       "\n",
       "[534 rows x 9 columns]"
      ]
     },
     "execution_count": 13,
     "metadata": {},
     "output_type": "execute_result"
    }
   ],
   "source": [
    "encoder = ce.OrdinalEncoder()\n",
    "x_train = encoder.fit_transform(x_train)\n",
    "x_test = encoder.fit_transform(x_test)\n",
    "test_df = encoder.fit_transform(test_data)\n",
    "x_train"
   ]
  },
  {
   "cell_type": "code",
   "execution_count": 14,
   "id": "ceeb79f9",
   "metadata": {
    "ExecuteTime": {
     "end_time": "2024-04-06T15:08:37.429396Z",
     "start_time": "2024-04-06T15:08:36.971495Z"
    },
    "collapsed": false,
    "execution": {
     "iopub.execute_input": "2024-04-12T23:15:50.895584Z",
     "iopub.status.busy": "2024-04-12T23:15:50.894907Z",
     "iopub.status.idle": "2024-04-12T23:15:51.284041Z",
     "shell.execute_reply": "2024-04-12T23:15:51.282821Z"
    },
    "jupyter": {
     "outputs_hidden": false
    },
    "papermill": {
     "duration": 0.406917,
     "end_time": "2024-04-12T23:15:51.286705",
     "exception": false,
     "start_time": "2024-04-12T23:15:50.879788",
     "status": "completed"
    },
    "tags": []
   },
   "outputs": [
    {
     "name": "stdout",
     "output_type": "stream",
     "text": [
      "Accuracy = 0.7759103641456583\n"
     ]
    },
    {
     "data": {
      "image/png": "[encoded data removed]",
      "text/plain": [
       "<Figure size 640x480 with 2 Axes>"
      ]
     },
     "metadata": {},
     "output_type": "display_data"
    }
   ],
   "source": [
    "model = xgb.XGBClassifier(n_estimators=15, max_depth=3, subsample=0.5, gamma=1, eta=0.1,\n",
    "                      min_child_weight=4, random_state=42, n_jobs=-1)\n",
    "model.fit(x_train, y_train)\n",
    "y_pred = model.predict(x_test)\n",
    "print(f'Accuracy = {accuracy_score(y_pred, y_test)}')\n",
    "cm = confusion_matrix(y_test, y_pred)\n",
    "disp = ConfusionMatrixDisplay(cm)\n",
    "disp.plot()\n",
    "plt.show()"
   ]
  },
  {
   "cell_type": "markdown",
   "id": "02c472bf",
   "metadata": {
    "papermill": {
     "duration": 0.013919,
     "end_time": "2024-04-12T23:15:51.314500",
     "exception": false,
     "start_time": "2024-04-12T23:15:51.300581",
     "status": "completed"
    },
    "tags": []
   },
   "source": [
    "### Training and Evaluating an XGBoost Classifier on the Titanic Dataset\n",
    "\n",
    "#### Purpose\n",
    "The aim is to build a predictive model using the XGBoost classifier to determine the survival outcomes of passengers in the Titanic dataset. The model is then evaluated based on its accuracy and a confusion matrix to visualize its performance.\n",
    "\n",
    "#### Model Setup\n",
    "1. **XGBoost Classifier Configuration**:\n",
    "   ```python\n",
    "   model = xgb.XGBClassifier(n_estimators=15, max_depth=3, subsample=0.5, gamma=1, eta=0.1,\n",
    "                             min_child_weight=4, random_state=42, n_jobs=-1)\n"
   ]
  },
  {
   "cell_type": "markdown",
   "id": "e3a5db45",
   "metadata": {
    "papermill": {
     "duration": 0.014165,
     "end_time": "2024-04-12T23:15:51.342463",
     "exception": false,
     "start_time": "2024-04-12T23:15:51.328298",
     "status": "completed"
    },
    "tags": []
   },
   "source": []
  },
  {
   "cell_type": "code",
   "execution_count": 15,
   "id": "f5423396",
   "metadata": {
    "execution": {
     "iopub.execute_input": "2024-04-12T23:15:51.372788Z",
     "iopub.status.busy": "2024-04-12T23:15:51.371939Z",
     "iopub.status.idle": "2024-04-12T23:15:51.670819Z",
     "shell.execute_reply": "2024-04-12T23:15:51.669856Z"
    },
    "papermill": {
     "duration": 0.316681,
     "end_time": "2024-04-12T23:15:51.673230",
     "exception": false,
     "start_time": "2024-04-12T23:15:51.356549",
     "status": "completed"
    },
    "tags": []
   },
   "outputs": [
    {
     "data": {
      "image/svg+xml": [
       "<?xml version=\"1.0\" encoding=\"UTF-8\" standalone=\"no\"?>\n",
       "<!DOCTYPE svg PUBLIC \"-//W3C//DTD SVG 1.1//EN\"\n",
       " \"http://www.w3.org/Graphics/SVG/1.1/DTD/svg11.dtd\">\n",
       "<!-- Generated by graphviz version 9.0.0 (20231125.0833)\n",
       " -->\n",
       "<!-- Pages: 1 -->\n",
       "<svg width=\"1028pt\" height=\"312pt\"\n",
       " viewBox=\"0.00 0.00 1028.32 311.75\" xmlns=\"http://www.w3.org/2000/svg\" xmlns:xlink=\"http://www.w3.org/1999/xlink\">\n",
       "<g id=\"graph0\" class=\"graph\" transform=\"scale(1 1) rotate(0) translate(4 307.75)\">\n",
       "<polygon fill=\"white\" stroke=\"none\" points=\"-4,4 -4,-307.75 1024.32,-307.75 1024.32,4 -4,4\"/>\n",
       "<!-- 0 -->\n",
       "<g id=\"node1\" class=\"node\">\n",
       "<title>0</title>\n",
       "<ellipse fill=\"none\" stroke=\"black\" cx=\"463.5\" cy=\"-285.75\" rx=\"48.58\" ry=\"18\"/>\n",
       "<text text-anchor=\"middle\" x=\"463.5\" y=\"-281.07\" font-family=\"Times,serif\" font-size=\"14.00\">Title&lt;2</text>\n",
       "</g>\n",
       "<!-- 1 -->\n",
       "<g id=\"node2\" class=\"node\">\n",
       "<title>1</title>\n",
       "<ellipse fill=\"none\" stroke=\"black\" cx=\"346.5\" cy=\"-196.5\" rx=\"77.51\" ry=\"18\"/>\n",
       "<text text-anchor=\"middle\" x=\"346.5\" y=\"-191.82\" font-family=\"Times,serif\" font-size=\"14.00\">Embarked&lt;3</text>\n",
       "</g>\n",
       "<!-- 0&#45;&gt;1 -->\n",
       "<g id=\"edge1\" class=\"edge\">\n",
       "<title>0&#45;&gt;1</title>\n",
       "<path fill=\"none\" stroke=\"#ff0000\" d=\"M442.58,-269.15C424.57,-255.72 398.32,-236.14 377.8,-220.84\"/>\n",
       "<polygon fill=\"#ff0000\" stroke=\"#ff0000\" points=\"380.15,-218.23 370.04,-215.06 375.97,-223.84 380.15,-218.23\"/>\n",
       "<text text-anchor=\"middle\" x=\"427.5\" y=\"-236.45\" font-family=\"Times,serif\" font-size=\"14.00\">yes</text>\n",
       "</g>\n",
       "<!-- 2 -->\n",
       "<g id=\"node3\" class=\"node\">\n",
       "<title>2</title>\n",
       "<ellipse fill=\"none\" stroke=\"black\" cx=\"582.5\" cy=\"-196.5\" rx=\"57.52\" ry=\"18\"/>\n",
       "<text text-anchor=\"middle\" x=\"582.5\" y=\"-191.82\" font-family=\"Times,serif\" font-size=\"14.00\">Pclass&lt;3</text>\n",
       "</g>\n",
       "<!-- 0&#45;&gt;2 -->\n",
       "<g id=\"edge2\" class=\"edge\">\n",
       "<title>0&#45;&gt;2</title>\n",
       "<path fill=\"none\" stroke=\"#0000ff\" d=\"M484.78,-269.15C503.33,-255.55 530.48,-235.64 551.46,-220.26\"/>\n",
       "<polygon fill=\"#0000ff\" stroke=\"#0000ff\" points=\"553.39,-223.18 559.39,-214.45 549.25,-217.54 553.39,-223.18\"/>\n",
       "<text text-anchor=\"middle\" x=\"575.38\" y=\"-236.45\" font-family=\"Times,serif\" font-size=\"14.00\">no, missing</text>\n",
       "</g>\n",
       "<!-- 3 -->\n",
       "<g id=\"node4\" class=\"node\">\n",
       "<title>3</title>\n",
       "<ellipse fill=\"none\" stroke=\"black\" cx=\"107.5\" cy=\"-107.25\" rx=\"107.5\" ry=\"18\"/>\n",
       "<text text-anchor=\"middle\" x=\"107.5\" y=\"-102.58\" font-family=\"Times,serif\" font-size=\"14.00\">leaf=&#45;0.117955439</text>\n",
       "</g>\n",
       "<!-- 1&#45;&gt;3 -->\n",
       "<g id=\"edge3\" class=\"edge\">\n",
       "<title>1&#45;&gt;3</title>\n",
       "<path fill=\"none\" stroke=\"#ff0000\" d=\"M305.96,-180.7C266.3,-166.22 205.65,-144.08 161.83,-128.08\"/>\n",
       "<polygon fill=\"#ff0000\" stroke=\"#ff0000\" points=\"163.1,-124.82 152.5,-124.68 160.69,-131.39 163.1,-124.82\"/>\n",
       "<text text-anchor=\"middle\" x=\"260.5\" y=\"-147.2\" font-family=\"Times,serif\" font-size=\"14.00\">yes</text>\n",
       "</g>\n",
       "<!-- 4 -->\n",
       "<g id=\"node5\" class=\"node\">\n",
       "<title>4</title>\n",
       "<ellipse fill=\"none\" stroke=\"black\" cx=\"346.5\" cy=\"-107.25\" rx=\"113.82\" ry=\"18\"/>\n",
       "<text text-anchor=\"middle\" x=\"346.5\" y=\"-102.58\" font-family=\"Times,serif\" font-size=\"14.00\">leaf=&#45;0.0164367333</text>\n",
       "</g>\n",
       "<!-- 1&#45;&gt;4 -->\n",
       "<g id=\"edge4\" class=\"edge\">\n",
       "<title>1&#45;&gt;4</title>\n",
       "<path fill=\"none\" stroke=\"#0000ff\" d=\"M346.5,-178.26C346.5,-166.43 346.5,-150.45 346.5,-136.75\"/>\n",
       "<polygon fill=\"#0000ff\" stroke=\"#0000ff\" points=\"350,-136.97 346.5,-126.97 343,-136.97 350,-136.97\"/>\n",
       "<text text-anchor=\"middle\" x=\"387.38\" y=\"-147.2\" font-family=\"Times,serif\" font-size=\"14.00\">no, missing</text>\n",
       "</g>\n",
       "<!-- 5 -->\n",
       "<g id=\"node6\" class=\"node\">\n",
       "<title>5</title>\n",
       "<ellipse fill=\"none\" stroke=\"black\" cx=\"582.5\" cy=\"-107.25\" rx=\"104.35\" ry=\"18\"/>\n",
       "<text text-anchor=\"middle\" x=\"582.5\" y=\"-102.58\" font-family=\"Times,serif\" font-size=\"14.00\">leaf=0.203929901</text>\n",
       "</g>\n",
       "<!-- 2&#45;&gt;5 -->\n",
       "<g id=\"edge5\" class=\"edge\">\n",
       "<title>2&#45;&gt;5</title>\n",
       "<path fill=\"none\" stroke=\"#ff0000\" d=\"M582.5,-178.26C582.5,-166.43 582.5,-150.45 582.5,-136.75\"/>\n",
       "<polygon fill=\"#ff0000\" stroke=\"#ff0000\" points=\"586,-136.97 582.5,-126.97 579,-136.97 586,-136.97\"/>\n",
       "<text text-anchor=\"middle\" x=\"594.5\" y=\"-147.2\" font-family=\"Times,serif\" font-size=\"14.00\">yes</text>\n",
       "</g>\n",
       "<!-- 6 -->\n",
       "<g id=\"node7\" class=\"node\">\n",
       "<title>6</title>\n",
       "<ellipse fill=\"none\" stroke=\"black\" cx=\"785.5\" cy=\"-107.25\" rx=\"80.67\" ry=\"18\"/>\n",
       "<text text-anchor=\"middle\" x=\"785.5\" y=\"-102.58\" font-family=\"Times,serif\" font-size=\"14.00\">FamilySize&lt;4</text>\n",
       "</g>\n",
       "<!-- 2&#45;&gt;6 -->\n",
       "<g id=\"edge6\" class=\"edge\">\n",
       "<title>2&#45;&gt;6</title>\n",
       "<path fill=\"none\" stroke=\"#0000ff\" d=\"M615.12,-181.48C648.72,-167.04 701.39,-144.4 739.28,-128.12\"/>\n",
       "<polygon fill=\"#0000ff\" stroke=\"#0000ff\" points=\"740.35,-131.47 748.16,-124.3 737.59,-125.03 740.35,-131.47\"/>\n",
       "<text text-anchor=\"middle\" x=\"743.38\" y=\"-147.2\" font-family=\"Times,serif\" font-size=\"14.00\">no, missing</text>\n",
       "</g>\n",
       "<!-- 7 -->\n",
       "<g id=\"node8\" class=\"node\">\n",
       "<title>7</title>\n",
       "<ellipse fill=\"none\" stroke=\"black\" cx=\"664.5\" cy=\"-18\" rx=\"110.66\" ry=\"18\"/>\n",
       "<text text-anchor=\"middle\" x=\"664.5\" y=\"-13.32\" font-family=\"Times,serif\" font-size=\"14.00\">leaf=0.0729704425</text>\n",
       "</g>\n",
       "<!-- 6&#45;&gt;7 -->\n",
       "<g id=\"edge7\" class=\"edge\">\n",
       "<title>6&#45;&gt;7</title>\n",
       "<path fill=\"none\" stroke=\"#ff0000\" d=\"M762.46,-89.63C743.99,-76.32 717.84,-57.46 697.21,-42.58\"/>\n",
       "<polygon fill=\"#ff0000\" stroke=\"#ff0000\" points=\"699.26,-39.75 689.1,-36.74 695.16,-45.42 699.26,-39.75\"/>\n",
       "<text text-anchor=\"middle\" x=\"748.5\" y=\"-57.95\" font-family=\"Times,serif\" font-size=\"14.00\">yes</text>\n",
       "</g>\n",
       "<!-- 8 -->\n",
       "<g id=\"node9\" class=\"node\">\n",
       "<title>8</title>\n",
       "<ellipse fill=\"none\" stroke=\"black\" cx=\"906.5\" cy=\"-18\" rx=\"113.82\" ry=\"18\"/>\n",
       "<text text-anchor=\"middle\" x=\"906.5\" y=\"-13.32\" font-family=\"Times,serif\" font-size=\"14.00\">leaf=&#45;0.0401809514</text>\n",
       "</g>\n",
       "<!-- 6&#45;&gt;8 -->\n",
       "<g id=\"edge8\" class=\"edge\">\n",
       "<title>6&#45;&gt;8</title>\n",
       "<path fill=\"none\" stroke=\"#0000ff\" d=\"M808.55,-89.63C827.01,-76.32 853.16,-57.46 873.79,-42.58\"/>\n",
       "<polygon fill=\"#0000ff\" stroke=\"#0000ff\" points=\"875.84,-45.42 881.9,-36.74 871.75,-39.75 875.84,-45.42\"/>\n",
       "<text text-anchor=\"middle\" x=\"898.38\" y=\"-57.95\" font-family=\"Times,serif\" font-size=\"14.00\">no, missing</text>\n",
       "</g>\n",
       "</g>\n",
       "</svg>\n"
      ],
      "text/plain": [
       "<graphviz.sources.Source at 0x7d9b1043a050>"
      ]
     },
     "execution_count": 15,
     "metadata": {},
     "output_type": "execute_result"
    }
   ],
   "source": [
    "xgb.to_graphviz(model)"
   ]
  },
  {
   "cell_type": "markdown",
   "id": "f5ff2e33",
   "metadata": {
    "papermill": {
     "duration": 0.014406,
     "end_time": "2024-04-12T23:15:51.702234",
     "exception": false,
     "start_time": "2024-04-12T23:15:51.687828",
     "status": "completed"
    },
    "tags": []
   },
   "source": []
  },
  {
   "cell_type": "code",
   "execution_count": 16,
   "id": "84a143f5",
   "metadata": {
    "ExecuteTime": {
     "end_time": "2024-04-06T15:08:37.433205Z",
     "start_time": "2024-04-06T15:08:37.430403Z"
    },
    "collapsed": false,
    "execution": {
     "iopub.execute_input": "2024-04-12T23:15:51.733773Z",
     "iopub.status.busy": "2024-04-12T23:15:51.733347Z",
     "iopub.status.idle": "2024-04-12T23:15:51.738053Z",
     "shell.execute_reply": "2024-04-12T23:15:51.737100Z"
    },
    "jupyter": {
     "outputs_hidden": false
    },
    "papermill": {
     "duration": 0.022747,
     "end_time": "2024-04-12T23:15:51.740222",
     "exception": false,
     "start_time": "2024-04-12T23:15:51.717475",
     "status": "completed"
    },
    "tags": []
   },
   "outputs": [],
   "source": [
    "# model = XGBClassifier(subsample=0.5)\n",
    "# params = {\n",
    "#     'n_estimators': [15, 30, 50, 100],\n",
    "#     'max_depth': [3, 6, 10, 20],\n",
    "#     'eta': [0.01, 0.1, 0.2, 0.3],\n",
    "#     'gamma': [0.4, 0.5, 0.6, 0.7, 1],\n",
    "#     'min_child_weight': [2, 3, 4, 5, 7, 9],\n",
    "# }\n",
    "# grid_search_CV = GridSearchCV(estimator=model, param_grid=params, cv=5, n_jobs=-1, verbose=1, scoring=\"accuracy\")\n",
    "# grid_search_CV.fit(x_train, y_train)"
   ]
  },
  {
   "cell_type": "code",
   "execution_count": 17,
   "id": "00d0a7e6",
   "metadata": {
    "ExecuteTime": {
     "end_time": "2024-04-06T15:08:37.43669Z",
     "start_time": "2024-04-06T15:08:37.434213Z"
    },
    "collapsed": false,
    "execution": {
     "iopub.execute_input": "2024-04-12T23:15:51.771088Z",
     "iopub.status.busy": "2024-04-12T23:15:51.770298Z",
     "iopub.status.idle": "2024-04-12T23:15:51.774420Z",
     "shell.execute_reply": "2024-04-12T23:15:51.773380Z"
    },
    "jupyter": {
     "outputs_hidden": false
    },
    "papermill": {
     "duration": 0.022288,
     "end_time": "2024-04-12T23:15:51.776833",
     "exception": false,
     "start_time": "2024-04-12T23:15:51.754545",
     "status": "completed"
    },
    "tags": []
   },
   "outputs": [],
   "source": [
    "# best_model = grid_search_CV.best_estimator_\n",
    "# best_model"
   ]
  },
  {
   "cell_type": "code",
   "execution_count": 18,
   "id": "e9edae0c",
   "metadata": {
    "ExecuteTime": {
     "end_time": "2024-04-06T15:08:37.440239Z",
     "start_time": "2024-04-06T15:08:37.437696Z"
    },
    "collapsed": false,
    "execution": {
     "iopub.execute_input": "2024-04-12T23:15:51.808457Z",
     "iopub.status.busy": "2024-04-12T23:15:51.807976Z",
     "iopub.status.idle": "2024-04-12T23:15:51.813149Z",
     "shell.execute_reply": "2024-04-12T23:15:51.811868Z"
    },
    "jupyter": {
     "outputs_hidden": false
    },
    "papermill": {
     "duration": 0.024361,
     "end_time": "2024-04-12T23:15:51.815562",
     "exception": false,
     "start_time": "2024-04-12T23:15:51.791201",
     "status": "completed"
    },
    "tags": []
   },
   "outputs": [],
   "source": [
    "# grid_search_CV.best_params_"
   ]
  },
  {
   "cell_type": "code",
   "execution_count": 19,
   "id": "4d70ceeb",
   "metadata": {
    "ExecuteTime": {
     "end_time": "2024-04-06T15:08:37.443695Z",
     "start_time": "2024-04-06T15:08:37.441247Z"
    },
    "collapsed": false,
    "execution": {
     "iopub.execute_input": "2024-04-12T23:15:51.847339Z",
     "iopub.status.busy": "2024-04-12T23:15:51.845994Z",
     "iopub.status.idle": "2024-04-12T23:15:51.851422Z",
     "shell.execute_reply": "2024-04-12T23:15:51.850093Z"
    },
    "jupyter": {
     "outputs_hidden": false
    },
    "papermill": {
     "duration": 0.024187,
     "end_time": "2024-04-12T23:15:51.854042",
     "exception": false,
     "start_time": "2024-04-12T23:15:51.829855",
     "status": "completed"
    },
    "tags": []
   },
   "outputs": [],
   "source": [
    "# best_model.score(x_test, y_test)"
   ]
  },
  {
   "cell_type": "code",
   "execution_count": 20,
   "id": "7c6f3750",
   "metadata": {
    "ExecuteTime": {
     "end_time": "2024-04-06T15:08:37.580936Z",
     "start_time": "2024-04-06T15:08:37.444702Z"
    },
    "collapsed": false,
    "execution": {
     "iopub.execute_input": "2024-04-12T23:15:51.884843Z",
     "iopub.status.busy": "2024-04-12T23:15:51.884087Z",
     "iopub.status.idle": "2024-04-12T23:15:52.174273Z",
     "shell.execute_reply": "2024-04-12T23:15:52.173127Z"
    },
    "jupyter": {
     "outputs_hidden": false
    },
    "papermill": {
     "duration": 0.3084,
     "end_time": "2024-04-12T23:15:52.176924",
     "exception": false,
     "start_time": "2024-04-12T23:15:51.868524",
     "status": "completed"
    },
    "tags": []
   },
   "outputs": [
    {
     "name": "stdout",
     "output_type": "stream",
     "text": [
      "Accuracy = 0.916267942583732\n"
     ]
    },
    {
     "data": {
      "image/png": "[encoded data removed]",
      "text/plain": [
       "<Figure size 640x480 with 2 Axes>"
      ]
     },
     "metadata": {},
     "output_type": "display_data"
    }
   ],
   "source": [
    "sub_pred = model.predict(test_df.drop('PassengerId', axis=1))\n",
    "sub_test = sub_data['Survived']\n",
    "print(f'Accuracy = {accuracy_score(sub_pred, sub_test)}')\n",
    "cm = confusion_matrix(sub_test, sub_pred)\n",
    "disp = ConfusionMatrixDisplay(cm)\n",
    "disp.plot()\n",
    "plt.show()"
   ]
  },
  {
   "cell_type": "markdown",
   "id": "c0ae23b6",
   "metadata": {
    "papermill": {
     "duration": 0.015048,
     "end_time": "2024-04-12T23:15:52.206973",
     "exception": false,
     "start_time": "2024-04-12T23:15:52.191925",
     "status": "completed"
    },
    "tags": []
   },
   "source": [
    "### Making Predictions and Evaluating the XGBoost Model on Submission Test Data\n",
    "\n",
    "#### Purpose\n",
    "The purpose of this segment is to apply the trained XGBoost classifier to an external test dataset and evaluate its accuracy using a known set of outcomes. This helps to validate the model's effectiveness in a scenario that mimics real-world application, such as submitting predictions in a competition.\n",
    "\n",
    "#### Model Prediction\n",
    "1. **Generating Predictions**:\n",
    "   ```python\n",
    "   sub_pred = model.predict(test_df.drop('PassengerId', axis=1))\n"
   ]
  },
  {
   "cell_type": "code",
   "execution_count": 21,
   "id": "52ddcd04",
   "metadata": {
    "ExecuteTime": {
     "end_time": "2024-04-06T15:08:37.584976Z",
     "start_time": "2024-04-06T15:08:37.581943Z"
    },
    "collapsed": false,
    "execution": {
     "iopub.execute_input": "2024-04-12T23:15:52.239154Z",
     "iopub.status.busy": "2024-04-12T23:15:52.238706Z",
     "iopub.status.idle": "2024-04-12T23:15:52.249396Z",
     "shell.execute_reply": "2024-04-12T23:15:52.248247Z"
    },
    "jupyter": {
     "outputs_hidden": false
    },
    "papermill": {
     "duration": 0.029971,
     "end_time": "2024-04-12T23:15:52.252148",
     "exception": false,
     "start_time": "2024-04-12T23:15:52.222177",
     "status": "completed"
    },
    "tags": []
   },
   "outputs": [],
   "source": [
    "df = pd.DataFrame({'PassengerId': sub_data['PassengerId'], 'Survived': sub_pred})\n",
    "df.to_csv('/kaggle/working/submission.csv', index=False)"
   ]
  }
 ],
 "metadata": {
  "kaggle": {
   "accelerator": "none",
   "dataSources": [
    {
     "databundleVersionId": 26502,
     "sourceId": 3136,
     "sourceType": "competition"
    }
   ],
   "dockerImageVersionId": 30684,
   "isGpuEnabled": false,
   "isInternetEnabled": true,
   "language": "python",
   "sourceType": "notebook"
  },
  "kernelspec": {
   "display_name": "Python 3",
   "language": "python",
   "name": "python3"
  },
  "language_info": {
   "codemirror_mode": {
    "name": "ipython",
    "version": 3
   },
   "file_extension": ".py",
   "mimetype": "text/x-python",
   "name": "python",
   "nbconvert_exporter": "python",
   "pygments_lexer": "ipython3",
   "version": "3.10.13"
  },
  "papermill": {
   "default_parameters": {},
   "duration": 10.049505,
   "end_time": "2024-04-12T23:15:52.987995",
   "environment_variables": {},
   "exception": null,
   "input_path": "__notebook__.ipynb",
   "output_path": "__notebook__.ipynb",
   "parameters": {},
   "start_time": "2024-04-12T23:15:42.938490",
   "version": "2.5.0"
  }
 },
 "nbformat": 4,
 "nbformat_minor": 5
}
